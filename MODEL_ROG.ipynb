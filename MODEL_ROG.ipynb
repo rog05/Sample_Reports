{
 "cells": [
  {
   "cell_type": "code",
   "execution_count": 1,
   "id": "adab5f1b",
   "metadata": {},
   "outputs": [
    {
     "name": "stdout",
     "output_type": "stream",
     "text": [
      "Collecting imblearn\n",
      "  Downloading imblearn-0.0-py2.py3-none-any.whl.metadata (355 bytes)\n",
      "Collecting imbalanced-learn (from imblearn)\n",
      "  Downloading imbalanced_learn-0.13.0-py3-none-any.whl.metadata (8.8 kB)\n",
      "Requirement already satisfied: numpy<3,>=1.24.3 in c:\\users\\dell\\desktop\\pgfoilsltd\\.venv\\lib\\site-packages (from imbalanced-learn->imblearn) (2.1.3)\n",
      "Requirement already satisfied: scipy<2,>=1.10.1 in c:\\users\\dell\\desktop\\pgfoilsltd\\.venv\\lib\\site-packages (from imbalanced-learn->imblearn) (1.15.3)\n",
      "Requirement already satisfied: scikit-learn<2,>=1.3.2 in c:\\users\\dell\\desktop\\pgfoilsltd\\.venv\\lib\\site-packages (from imbalanced-learn->imblearn) (1.7.1)\n",
      "Collecting sklearn-compat<1,>=0.1 (from imbalanced-learn->imblearn)\n",
      "  Downloading sklearn_compat-0.1.3-py3-none-any.whl.metadata (18 kB)\n",
      "Requirement already satisfied: joblib<2,>=1.1.1 in c:\\users\\dell\\desktop\\pgfoilsltd\\.venv\\lib\\site-packages (from imbalanced-learn->imblearn) (1.5.1)\n",
      "Requirement already satisfied: threadpoolctl<4,>=2.0.0 in c:\\users\\dell\\desktop\\pgfoilsltd\\.venv\\lib\\site-packages (from imbalanced-learn->imblearn) (3.6.0)\n",
      "Collecting scikit-learn<2,>=1.3.2 (from imbalanced-learn->imblearn)\n",
      "  Downloading scikit_learn-1.6.1-cp310-cp310-win_amd64.whl.metadata (15 kB)\n",
      "Downloading imblearn-0.0-py2.py3-none-any.whl (1.9 kB)\n",
      "Downloading imbalanced_learn-0.13.0-py3-none-any.whl (238 kB)\n",
      "Downloading sklearn_compat-0.1.3-py3-none-any.whl (18 kB)\n",
      "Downloading scikit_learn-1.6.1-cp310-cp310-win_amd64.whl (11.1 MB)\n",
      "   ---------------------------------------- 0.0/11.1 MB ? eta -:--:--\n",
      "    --------------------------------------- 0.3/11.1 MB ? eta -:--:--\n",
      "   -- ------------------------------------- 0.8/11.1 MB 2.2 MB/s eta 0:00:05\n",
      "   ---- ----------------------------------- 1.3/11.1 MB 2.6 MB/s eta 0:00:04\n",
      "   ------ --------------------------------- 1.8/11.1 MB 2.5 MB/s eta 0:00:04\n",
      "   --------- ------------------------------ 2.6/11.1 MB 2.6 MB/s eta 0:00:04\n",
      "   ----------- ---------------------------- 3.1/11.1 MB 2.7 MB/s eta 0:00:03\n",
      "   ------------ --------------------------- 3.4/11.1 MB 2.6 MB/s eta 0:00:03\n",
      "   -------------- ------------------------- 3.9/11.1 MB 2.5 MB/s eta 0:00:03\n",
      "   ---------------- ----------------------- 4.5/11.1 MB 2.5 MB/s eta 0:00:03\n",
      "   ----------------- ---------------------- 5.0/11.1 MB 2.5 MB/s eta 0:00:03\n",
      "   ------------------ --------------------- 5.2/11.1 MB 2.4 MB/s eta 0:00:03\n",
      "   -------------------- ------------------- 5.8/11.1 MB 2.4 MB/s eta 0:00:03\n",
      "   --------------------- ------------------ 6.0/11.1 MB 2.4 MB/s eta 0:00:03\n",
      "   ----------------------- ---------------- 6.6/11.1 MB 2.2 MB/s eta 0:00:03\n",
      "   ------------------------ --------------- 6.8/11.1 MB 2.2 MB/s eta 0:00:02\n",
      "   ------------------------- -------------- 7.1/11.1 MB 2.1 MB/s eta 0:00:02\n",
      "   -------------------------- ------------- 7.3/11.1 MB 2.0 MB/s eta 0:00:02\n",
      "   --------------------------- ------------ 7.6/11.1 MB 2.0 MB/s eta 0:00:02\n",
      "   ---------------------------- ----------- 7.9/11.1 MB 2.0 MB/s eta 0:00:02\n",
      "   ------------------------------ --------- 8.4/11.1 MB 2.0 MB/s eta 0:00:02\n",
      "   ------------------------------ --------- 8.4/11.1 MB 2.0 MB/s eta 0:00:02\n",
      "   ------------------------------- -------- 8.7/11.1 MB 1.9 MB/s eta 0:00:02\n",
      "   -------------------------------- ------- 9.2/11.1 MB 1.9 MB/s eta 0:00:02\n",
      "   --------------------------------- ------ 9.4/11.1 MB 1.9 MB/s eta 0:00:01\n",
      "   ----------------------------------- ---- 10.0/11.1 MB 1.9 MB/s eta 0:00:01\n",
      "   -------------------------------------- - 10.7/11.1 MB 2.0 MB/s eta 0:00:01\n",
      "   ---------------------------------------  11.0/11.1 MB 1.9 MB/s eta 0:00:01\n",
      "   ---------------------------------------- 11.1/11.1 MB 1.9 MB/s eta 0:00:00\n",
      "Installing collected packages: scikit-learn, sklearn-compat, imbalanced-learn, imblearn\n",
      "\n",
      "  Attempting uninstall: scikit-learn\n",
      "\n",
      "    Found existing installation: scikit-learn 1.7.1\n",
      "\n",
      "   ---------------------------------------- 0/4 [scikit-learn]\n",
      "   ---------------------------------------- 0/4 [scikit-learn]\n",
      "   ---------------------------------------- 0/4 [scikit-learn]\n",
      "   ---------------------------------------- 0/4 [scikit-learn]\n",
      "   ---------------------------------------- 0/4 [scikit-learn]\n",
      "   ---------------------------------------- 0/4 [scikit-learn]\n",
      "   ---------------------------------------- 0/4 [scikit-learn]\n",
      "    Uninstalling scikit-learn-1.7.1:\n",
      "   ---------------------------------------- 0/4 [scikit-learn]\n",
      "   ---------------------------------------- 0/4 [scikit-learn]\n",
      "      Successfully uninstalled scikit-learn-1.7.1\n",
      "   ---------------------------------------- 0/4 [scikit-learn]\n",
      "   ---------------------------------------- 0/4 [scikit-learn]\n",
      "   ---------------------------------------- 0/4 [scikit-learn]\n",
      "   ---------------------------------------- 0/4 [scikit-learn]\n",
      "   ---------------------------------------- 0/4 [scikit-learn]\n",
      "   ---------------------------------------- 0/4 [scikit-learn]\n",
      "   ---------------------------------------- 0/4 [scikit-learn]\n",
      "   ---------------------------------------- 0/4 [scikit-learn]\n",
      "   ---------------------------------------- 0/4 [scikit-learn]\n",
      "   ---------------------------------------- 0/4 [scikit-learn]\n",
      "   ---------------------------------------- 0/4 [scikit-learn]\n",
      "   ---------------------------------------- 0/4 [scikit-learn]\n",
      "   ---------------------------------------- 0/4 [scikit-learn]\n",
      "   ---------------------------------------- 0/4 [scikit-learn]\n",
      "   ---------------------------------------- 0/4 [scikit-learn]\n",
      "   ---------------------------------------- 0/4 [scikit-learn]\n",
      "   ---------------------------------------- 0/4 [scikit-learn]\n",
      "   ---------------------------------------- 0/4 [scikit-learn]\n",
      "   ---------------------------------------- 0/4 [scikit-learn]\n",
      "   ---------------------------------------- 0/4 [scikit-learn]\n",
      "   ---------------------------------------- 0/4 [scikit-learn]\n",
      "   ---------------------------------------- 0/4 [scikit-learn]\n",
      "   ---------------------------------------- 0/4 [scikit-learn]\n",
      "   ---------------------------------------- 0/4 [scikit-learn]\n",
      "   ---------------------------------------- 0/4 [scikit-learn]\n",
      "   ---------------------------------------- 0/4 [scikit-learn]\n",
      "   ---------------------------------------- 0/4 [scikit-learn]\n",
      "   ---------------------------------------- 0/4 [scikit-learn]\n",
      "   ---------------------------------------- 0/4 [scikit-learn]\n",
      "   ---------------------------------------- 0/4 [scikit-learn]\n",
      "   ---------------------------------------- 0/4 [scikit-learn]\n",
      "   ---------------------------------------- 0/4 [scikit-learn]\n",
      "   ---------------------------------------- 0/4 [scikit-learn]\n",
      "   ---------------------------------------- 0/4 [scikit-learn]\n",
      "   ---------------------------------------- 0/4 [scikit-learn]\n",
      "   ---------------------------------------- 0/4 [scikit-learn]\n",
      "   ---------------------------------------- 0/4 [scikit-learn]\n",
      "   ---------------------------------------- 0/4 [scikit-learn]\n",
      "   ---------------------------------------- 0/4 [scikit-learn]\n",
      "   ---------------------------------------- 0/4 [scikit-learn]\n",
      "   ---------------------------------------- 0/4 [scikit-learn]\n",
      "   ---------------------------------------- 0/4 [scikit-learn]\n",
      "   ---------------------------------------- 0/4 [scikit-learn]\n",
      "   ---------------------------------------- 0/4 [scikit-learn]\n",
      "   ---------------------------------------- 0/4 [scikit-learn]\n",
      "   ---------------------------------------- 0/4 [scikit-learn]\n",
      "   ---------------------------------------- 0/4 [scikit-learn]\n",
      "   ---------------------------------------- 0/4 [scikit-learn]\n",
      "   ---------------------------------------- 0/4 [scikit-learn]\n",
      "   ---------------------------------------- 0/4 [scikit-learn]\n",
      "   ---------------------------------------- 0/4 [scikit-learn]\n",
      "   ---------------------------------------- 0/4 [scikit-learn]\n",
      "   ---------------------------------------- 0/4 [scikit-learn]\n",
      "   ---------------------------------------- 0/4 [scikit-learn]\n",
      "   ---------------------------------------- 0/4 [scikit-learn]\n",
      "   ---------------------------------------- 0/4 [scikit-learn]\n",
      "   ---------------------------------------- 0/4 [scikit-learn]\n",
      "   ---------------------------------------- 0/4 [scikit-learn]\n",
      "   ---------------------------------------- 0/4 [scikit-learn]\n",
      "   ---------------------------------------- 0/4 [scikit-learn]\n",
      "   ---------------------------------------- 0/4 [scikit-learn]\n",
      "   ---------------------------------------- 0/4 [scikit-learn]\n",
      "   ---------------------------------------- 0/4 [scikit-learn]\n",
      "   ---------------------------------------- 0/4 [scikit-learn]\n",
      "   ---------------------------------------- 0/4 [scikit-learn]\n",
      "   ---------------------------------------- 0/4 [scikit-learn]\n",
      "   ---------------------------------------- 0/4 [scikit-learn]\n",
      "   ---------------------------------------- 0/4 [scikit-learn]\n",
      "   ---------------------------------------- 0/4 [scikit-learn]\n",
      "   ---------------------------------------- 0/4 [scikit-learn]\n",
      "   ---------------------------------------- 0/4 [scikit-learn]\n",
      "   ---------------------------------------- 0/4 [scikit-learn]\n",
      "   ---------------------------------------- 0/4 [scikit-learn]\n",
      "   ---------------------------------------- 0/4 [scikit-learn]\n",
      "   ---------------------------------------- 0/4 [scikit-learn]\n",
      "   ---------------------------------------- 0/4 [scikit-learn]\n",
      "   ---------------------------------------- 0/4 [scikit-learn]\n",
      "   ---------------------------------------- 0/4 [scikit-learn]\n",
      "   ---------------------------------------- 0/4 [scikit-learn]\n",
      "   ---------------------------------------- 0/4 [scikit-learn]\n",
      "   ---------------------------------------- 0/4 [scikit-learn]\n",
      "   ---------------------------------------- 0/4 [scikit-learn]\n",
      "   ---------------------------------------- 0/4 [scikit-learn]\n",
      "   ---------------------------------------- 0/4 [scikit-learn]\n",
      "   ---------------------------------------- 0/4 [scikit-learn]\n",
      "   ---------------------------------------- 0/4 [scikit-learn]\n",
      "   ---------------------------------------- 0/4 [scikit-learn]\n",
      "   ---------------------------------------- 0/4 [scikit-learn]\n",
      "   ---------------------------------------- 0/4 [scikit-learn]\n",
      "   ---------------------------------------- 0/4 [scikit-learn]\n",
      "   ---------------------------------------- 0/4 [scikit-learn]\n",
      "   ---------------------------------------- 0/4 [scikit-learn]\n",
      "   ---------------------------------------- 0/4 [scikit-learn]\n",
      "   ---------------------------------------- 0/4 [scikit-learn]\n",
      "   ---------------------------------------- 0/4 [scikit-learn]\n",
      "   ---------------------------------------- 0/4 [scikit-learn]\n",
      "   ---------------------------------------- 0/4 [scikit-learn]\n",
      "   ---------------------------------------- 0/4 [scikit-learn]\n",
      "   ---------------------------------------- 0/4 [scikit-learn]\n",
      "   ---------------------------------------- 0/4 [scikit-learn]\n",
      "   ---------------------------------------- 0/4 [scikit-learn]\n",
      "   ---------------------------------------- 0/4 [scikit-learn]\n",
      "   ---------------------------------------- 0/4 [scikit-learn]\n",
      "   ---------------------------------------- 0/4 [scikit-learn]\n",
      "   ---------------------------------------- 0/4 [scikit-learn]\n",
      "   ---------------------------------------- 0/4 [scikit-learn]\n",
      "   ---------------------------------------- 0/4 [scikit-learn]\n",
      "   ---------------------------------------- 0/4 [scikit-learn]\n",
      "   ---------------------------------------- 0/4 [scikit-learn]\n",
      "   ---------------------------------------- 0/4 [scikit-learn]\n",
      "   ---------------------------------------- 0/4 [scikit-learn]\n",
      "   ---------------------------------------- 0/4 [scikit-learn]\n",
      "   ---------------------------------------- 0/4 [scikit-learn]\n",
      "   ---------------------------------------- 0/4 [scikit-learn]\n",
      "   ---------------------------------------- 0/4 [scikit-learn]\n",
      "   ---------------------------------------- 0/4 [scikit-learn]\n",
      "   ---------------------------------------- 0/4 [scikit-learn]\n",
      "   ---------------------------------------- 0/4 [scikit-learn]\n",
      "   ---------------------------------------- 0/4 [scikit-learn]\n",
      "   ---------------------------------------- 0/4 [scikit-learn]\n",
      "   ---------------------------------------- 0/4 [scikit-learn]\n",
      "   ---------------------------------------- 0/4 [scikit-learn]\n",
      "   ---------------------------------------- 0/4 [scikit-learn]\n",
      "   ---------------------------------------- 0/4 [scikit-learn]\n",
      "   ---------------------------------------- 0/4 [scikit-learn]\n",
      "   ---------------------------------------- 0/4 [scikit-learn]\n",
      "   ---------------------------------------- 0/4 [scikit-learn]\n",
      "   ---------------------------------------- 0/4 [scikit-learn]\n",
      "   ---------------------------------------- 0/4 [scikit-learn]\n",
      "   ---------------------------------------- 0/4 [scikit-learn]\n",
      "   ---------------------------------------- 0/4 [scikit-learn]\n",
      "   ---------------------------------------- 0/4 [scikit-learn]\n",
      "   ---------------------------------------- 0/4 [scikit-learn]\n",
      "   ---------------------------------------- 0/4 [scikit-learn]\n",
      "   ---------------------------------------- 0/4 [scikit-learn]\n",
      "   ---------------------------------------- 0/4 [scikit-learn]\n",
      "   ---------------------------------------- 0/4 [scikit-learn]\n",
      "   ---------------------------------------- 0/4 [scikit-learn]\n",
      "   ---------------------------------------- 0/4 [scikit-learn]\n",
      "   ---------------------------------------- 0/4 [scikit-learn]\n",
      "   ---------------------------------------- 0/4 [scikit-learn]\n",
      "   ---------------------------------------- 0/4 [scikit-learn]\n",
      "   ---------------------------------------- 0/4 [scikit-learn]\n",
      "   ---------------------------------------- 0/4 [scikit-learn]\n",
      "   ---------------------------------------- 0/4 [scikit-learn]\n",
      "   ---------------------------------------- 0/4 [scikit-learn]\n",
      "   ---------------------------------------- 0/4 [scikit-learn]\n",
      "   ---------- ----------------------------- 1/4 [sklearn-compat]\n",
      "   -------------------- ------------------- 2/4 [imbalanced-learn]\n",
      "   -------------------- ------------------- 2/4 [imbalanced-learn]\n",
      "   -------------------- ------------------- 2/4 [imbalanced-learn]\n",
      "   -------------------- ------------------- 2/4 [imbalanced-learn]\n",
      "   -------------------- ------------------- 2/4 [imbalanced-learn]\n",
      "   -------------------- ------------------- 2/4 [imbalanced-learn]\n",
      "   -------------------- ------------------- 2/4 [imbalanced-learn]\n",
      "   -------------------- ------------------- 2/4 [imbalanced-learn]\n",
      "   -------------------- ------------------- 2/4 [imbalanced-learn]\n",
      "   -------------------- ------------------- 2/4 [imbalanced-learn]\n",
      "   -------------------- ------------------- 2/4 [imbalanced-learn]\n",
      "   -------------------- ------------------- 2/4 [imbalanced-learn]\n",
      "   ---------------------------------------- 4/4 [imblearn]\n",
      "\n",
      "Successfully installed imbalanced-learn-0.13.0 imblearn-0.0 scikit-learn-1.6.1 sklearn-compat-0.1.3\n"
     ]
    }
   ],
   "source": [
    "!pip install imblearn"
   ]
  },
  {
   "cell_type": "code",
   "execution_count": null,
   "id": "e1bbc0bd",
   "metadata": {},
   "outputs": [],
   "source": []
  },
  {
   "cell_type": "code",
   "execution_count": 2,
   "id": "ef54a1d5",
   "metadata": {},
   "outputs": [],
   "source": [
    "# Step 1: Import libraries\n",
    "import os\n",
    "import glob\n",
    "from bs4 import BeautifulSoup\n",
    "import pandas as pd\n",
    "import numpy as np\n",
    "from sklearn.model_selection import train_test_split\n",
    "from sklearn.feature_extraction.text import TfidfVectorizer\n",
    "from sklearn.linear_model import LogisticRegression\n",
    "from sklearn.metrics import classification_report, confusion_matrix\n",
    "from imblearn.over_sampling import SMOTE\n",
    "import joblib\n",
    "import matplotlib.pyplot as plt\n",
    "import seaborn as sns"
   ]
  },
  {
   "cell_type": "code",
   "execution_count": 4,
   "id": "17935c44",
   "metadata": {},
   "outputs": [],
   "source": [
    "data_path = \"fdata\\data\" \n",
    "\n",
    "\n",
    "categories = [\"Balance Sheets\", \"Cash Flow\", \"Income Statement\", \"Notes\", \"Others\"]"
   ]
  },
  {
   "cell_type": "code",
   "execution_count": 8,
   "id": "a134acfc",
   "metadata": {},
   "outputs": [],
   "source": [
    "#Extract text from HTML files\n",
    "\n",
    "texts = []\n",
    "labels = []\n",
    "\n",
    "for category in categories:\n",
    "    folder_path = os.path.join(data_path, category)\n",
    "    for filepath in glob.glob(os.path.join(folder_path, \"*.html\")):\n",
    "        with open(filepath, \"r\", encoding=\"utf-8\") as f:\n",
    "            soup = BeautifulSoup(f, \"html.parser\")\n",
    "            text = soup.get_text(separator=\" \", strip=True)\n",
    "            texts.append(text)\n",
    "            labels.append(category)\n",
    "\n",
    "df = pd.DataFrame({\"text\": texts, \"label\": labels})\n"
   ]
  },
  {
   "cell_type": "code",
   "execution_count": 9,
   "id": "c4ea7c59",
   "metadata": {},
   "outputs": [
    {
     "data": {
      "text/plain": [
       "(2525, 2)"
      ]
     },
     "execution_count": 9,
     "metadata": {},
     "output_type": "execute_result"
    }
   ],
   "source": [
    "df.shape"
   ]
  },
  {
   "cell_type": "code",
   "execution_count": 11,
   "id": "e7a93c4c",
   "metadata": {},
   "outputs": [
    {
     "data": {
      "text/plain": [
       "label\n",
       "Others              1224\n",
       "Notes                690\n",
       "Income Statement     305\n",
       "Balance Sheets       270\n",
       "Cash Flow             36\n",
       "Name: count, dtype: int64"
      ]
     },
     "execution_count": 11,
     "metadata": {},
     "output_type": "execute_result"
    }
   ],
   "source": [
    "df[\"label\"].value_counts()"
   ]
  },
  {
   "cell_type": "code",
   "execution_count": 12,
   "id": "e42f6541",
   "metadata": {},
   "outputs": [],
   "source": [
    "# Text Preprocessing \n",
    "import re\n",
    "def preprocess_text(text):\n",
    "    text = text.lower() \n",
    "    text = re.sub(r'\\s+', ' ', text)  # replace multiple spaces/newlines with single space\n",
    "    text = re.sub(r'[^a-z0-9\\s]', '', text)  # remove special chars except numbers and letters\n",
    "    return text\n",
    "\n"
   ]
  },
  {
   "cell_type": "code",
   "execution_count": 13,
   "id": "e8a199fa",
   "metadata": {},
   "outputs": [],
   "source": [
    "df['text'] = df['text'].apply(preprocess_text)"
   ]
  },
  {
   "cell_type": "code",
   "execution_count": 18,
   "id": "a637dde8",
   "metadata": {},
   "outputs": [
    {
     "data": {
      "text/plain": [
       "0       Balance Sheets\n",
       "1       Balance Sheets\n",
       "2       Balance Sheets\n",
       "3       Balance Sheets\n",
       "4       Balance Sheets\n",
       "             ...      \n",
       "2520            Others\n",
       "2521            Others\n",
       "2522            Others\n",
       "2523            Others\n",
       "2524            Others\n",
       "Name: label, Length: 2525, dtype: object"
      ]
     },
     "execution_count": 18,
     "metadata": {},
     "output_type": "execute_result"
    }
   ],
   "source": [
    "df['label']"
   ]
  },
  {
   "cell_type": "code",
   "execution_count": 19,
   "id": "4ab1c857",
   "metadata": {},
   "outputs": [],
   "source": [
    "# Train test split\n",
    "\n",
    "X_train, X_test, y_train, y_test = train_test_split( df['text'], df['label'], test_size=0.2, stratify=df['label'], random_state=42)\n",
    "\n"
   ]
  },
  {
   "cell_type": "code",
   "execution_count": 20,
   "id": "ccaf89a3",
   "metadata": {},
   "outputs": [
    {
     "data": {
      "text/plain": [
       "(2020,)"
      ]
     },
     "execution_count": 20,
     "metadata": {},
     "output_type": "execute_result"
    }
   ],
   "source": [
    "X_train.shape"
   ]
  },
  {
   "cell_type": "code",
   "execution_count": 21,
   "id": "9c35033e",
   "metadata": {},
   "outputs": [
    {
     "data": {
      "text/plain": [
       "(505,)"
      ]
     },
     "execution_count": 21,
     "metadata": {},
     "output_type": "execute_result"
    }
   ],
   "source": [
    "X_test.shape"
   ]
  },
  {
   "cell_type": "code",
   "execution_count": 22,
   "id": "ee886872",
   "metadata": {},
   "outputs": [
    {
     "data": {
      "text/plain": [
       "(2020,)"
      ]
     },
     "execution_count": 22,
     "metadata": {},
     "output_type": "execute_result"
    }
   ],
   "source": [
    "y_train.shape"
   ]
  },
  {
   "cell_type": "code",
   "execution_count": 23,
   "id": "03404751",
   "metadata": {},
   "outputs": [
    {
     "data": {
      "text/plain": [
       "(505,)"
      ]
     },
     "execution_count": 23,
     "metadata": {},
     "output_type": "execute_result"
    }
   ],
   "source": [
    "y_test.shape"
   ]
  },
  {
   "cell_type": "code",
   "execution_count": 26,
   "id": "3ea07791",
   "metadata": {},
   "outputs": [
    {
     "data": {
      "text/plain": [
       "'7 in lacs 7 in lacs 1 standalone consolidated sr no particulars as at 31st march 2018 as at 31st march 2017 as at 31st march 2018 as at 31st march 2017 a assets 1 noncurrent assets a property plant and equipment 1072396 928123 1072396 928123 b capital work in progress 60746  60746  c intangible assets 1744 1871 1744 1871 d financial assets i noncurrent investments 15000 15000 6342 2469 ii loans     iii other financial assets 19766 13062 19766 13062 e other noncurrent assets     total noncurrent assets a 1169652 958056 1160994 945525 2 current assets a inventories 800202 1392510 800202 1392510 b financial assets i trade receivables 1854175 1367101 1854175 1367101 ii cash and cash equivalents 288382 17711 288382 17711 iii bank balances other than ii above 35708 153845 35708 153845 ivj loans 312 179 312 179 v other financial assets 22019 103536 22019 103536 c other current assets 68459 216981 68459 216981 total current assets b 3069257 3251863 3069257 3251863  total assets a b 4238909 4209919 4230251 4197388 b equity  liabilities 1 equity  a equity share capital 165906 165906 165906 165906 b other equity 2415409 1461193 2406751 1448661 total equity a 2581315 1627099 2572657 1614567 2 liabilities noncurrent liabilities a financial liabilities i long term borrowings     ii other non current financial liability 030 030 030 030 bj long term provisions 44943 40126 44943 40126 c deferred tax liabilities net 106151 39963 106151 39963 total noncurrent liabilities b 151124 80119 151124 80119 current liabilities a financial liabilities i short term borrowings  1371019  1371019 ii trade payables 1257473 987263 1257473 987263 iii other current financial liabilities 29521 45344 29521 45344 b other current liabilities 79304 16110 79304 16119 cshort term provisions 4007 3826 4007 3826 d current tax liabilities net 136165 79132 136165 79132 total current liabilities c 1506470 2502703 1506470 2502703 total equity and liabilities a b  c 4238909 4209919 4230251 4197388'"
      ]
     },
     "execution_count": 26,
     "metadata": {},
     "output_type": "execute_result"
    }
   ],
   "source": [
    "X_train[0]"
   ]
  },
  {
   "cell_type": "code",
   "execution_count": 27,
   "id": "a0a29d55",
   "metadata": {},
   "outputs": [],
   "source": [
    "#Vectorization with TF-IDF\n",
    "\n",
    "\n",
    "vectorizer = TfidfVectorizer(max_features=10000, stop_words='english')\n",
    "X_train_tfidf = vectorizer.fit_transform(X_train)\n",
    "X_test_tfidf = vectorizer.transform(X_test)"
   ]
  },
  {
   "cell_type": "code",
   "execution_count": 28,
   "id": "cb827da3",
   "metadata": {},
   "outputs": [],
   "source": [
    "#Handle class imbalance with SMOTE\n",
    "\n",
    "smote = SMOTE(random_state=42)\n",
    "X_train_resampled, y_train_resampled = smote.fit_resample(X_train_tfidf, y_train)\n",
    "\n"
   ]
  },
  {
   "cell_type": "code",
   "execution_count": null,
   "id": "f60b01a0",
   "metadata": {},
   "outputs": [
    {
     "name": "stdout",
     "output_type": "stream",
     "text": [
      "label\n",
      "Notes               979\n",
      "Others              979\n",
      "Balance Sheets      979\n",
      "Income Statement    979\n",
      "Cash Flow           979\n",
      "Name: count, dtype: int64\n"
     ]
    }
   ],
   "source": [
    "print(pd.Series(y_train_resampled).value_counts())"
   ]
  },
  {
   "cell_type": "code",
   "execution_count": 38,
   "id": "0e1258b0",
   "metadata": {},
   "outputs": [
    {
     "data": {
      "text/plain": [
       "0.992849846782431"
      ]
     },
     "execution_count": 38,
     "metadata": {},
     "output_type": "execute_result"
    }
   ],
   "source": [
    "#Logistic Regression\n",
    "LR = LogisticRegression(max_iter=1000, random_state=42)\n",
    "LR.fit(X_train_resampled, y_train_resampled)\n",
    "\n",
    "LR.score(X_train_resampled, y_train_resampled)\n",
    "\n"
   ]
  },
  {
   "cell_type": "code",
   "execution_count": 49,
   "id": "f5222d22",
   "metadata": {},
   "outputs": [
    {
     "data": {
      "text/plain": [
       "0.8950495049504951"
      ]
     },
     "execution_count": 49,
     "metadata": {},
     "output_type": "execute_result"
    }
   ],
   "source": [
    "#Decision Tree\n",
    "\n",
    "from sklearn.tree import DecisionTreeClassifier\n",
    "\n",
    "DT = DecisionTreeClassifier()\n",
    "DT.fit(X_train_resampled, y_train_resampled)\n",
    "\n",
    "DT.score(X_test_tfidf, y_test)\n"
   ]
  },
  {
   "cell_type": "code",
   "execution_count": 47,
   "id": "62e9fb9a",
   "metadata": {},
   "outputs": [
    {
     "data": {
      "text/plain": [
       "0.9425742574257425"
      ]
     },
     "execution_count": 47,
     "metadata": {},
     "output_type": "execute_result"
    }
   ],
   "source": [
    "#Random Forest\n",
    "\n",
    "from sklearn.ensemble import RandomForestClassifier\n",
    "\n",
    "RF = RandomForestClassifier(n_estimators=100)\n",
    "RF.fit(X_train_resampled, y_train_resampled)\n",
    "\n",
    "RF.score(X_test_tfidf, y_test)"
   ]
  },
  {
   "cell_type": "code",
   "execution_count": 48,
   "id": "e3e8a26d",
   "metadata": {},
   "outputs": [
    {
     "data": {
      "text/plain": [
       "0.9247524752475248"
      ]
     },
     "execution_count": 48,
     "metadata": {},
     "output_type": "execute_result"
    }
   ],
   "source": [
    "#Boosinting\n",
    "\n",
    "from sklearn.ensemble import GradientBoostingClassifier\n",
    "\n",
    "GB = GradientBoostingClassifier()\n",
    "GB.fit(X_train_resampled, y_train_resampled)\n",
    "\n",
    "GB.score(X_test_tfidf, y_test)\n",
    "\n"
   ]
  },
  {
   "cell_type": "code",
   "execution_count": 52,
   "id": "05408d99",
   "metadata": {},
   "outputs": [
    {
     "name": "stdout",
     "output_type": "stream",
     "text": [
      "Collecting xgboost\n",
      "  Downloading xgboost-3.0.3-py3-none-win_amd64.whl.metadata (2.1 kB)\n",
      "Requirement already satisfied: numpy in c:\\users\\dell\\desktop\\pgfoilsltd\\.venv\\lib\\site-packages (from xgboost) (2.1.3)\n",
      "Requirement already satisfied: scipy in c:\\users\\dell\\desktop\\pgfoilsltd\\.venv\\lib\\site-packages (from xgboost) (1.15.3)\n",
      "Downloading xgboost-3.0.3-py3-none-win_amd64.whl (149.9 MB)\n",
      "   ---------------------------------------- 0.0/149.9 MB ? eta -:--:--\n",
      "   ---------------------------------------- 0.8/149.9 MB 4.8 MB/s eta 0:00:32\n",
      "   ---------------------------------------- 1.6/149.9 MB 4.4 MB/s eta 0:00:34\n",
      "   ---------------------------------------- 1.8/149.9 MB 3.4 MB/s eta 0:00:45\n",
      "    --------------------------------------- 2.1/149.9 MB 2.4 MB/s eta 0:01:01\n",
      "    --------------------------------------- 2.1/149.9 MB 2.4 MB/s eta 0:01:01\n",
      "    --------------------------------------- 2.4/149.9 MB 2.0 MB/s eta 0:01:14\n",
      "    --------------------------------------- 2.6/149.9 MB 1.9 MB/s eta 0:01:19\n",
      "    --------------------------------------- 3.1/149.9 MB 1.9 MB/s eta 0:01:19\n",
      "   - -------------------------------------- 4.2/149.9 MB 2.1 MB/s eta 0:01:09\n",
      "   - -------------------------------------- 5.2/149.9 MB 2.4 MB/s eta 0:01:00\n",
      "   - -------------------------------------- 6.0/149.9 MB 2.6 MB/s eta 0:00:56\n",
      "   - -------------------------------------- 7.1/149.9 MB 2.7 MB/s eta 0:00:53\n",
      "   -- ------------------------------------- 8.1/149.9 MB 2.9 MB/s eta 0:00:50\n",
      "   -- ------------------------------------- 9.2/149.9 MB 3.1 MB/s eta 0:00:46\n",
      "   -- ------------------------------------- 10.5/149.9 MB 3.3 MB/s eta 0:00:43\n",
      "   --- ------------------------------------ 11.5/149.9 MB 3.4 MB/s eta 0:00:42\n",
      "   --- ------------------------------------ 12.3/149.9 MB 3.4 MB/s eta 0:00:41\n",
      "   --- ------------------------------------ 13.1/149.9 MB 3.4 MB/s eta 0:00:40\n",
      "   --- ------------------------------------ 14.2/149.9 MB 3.5 MB/s eta 0:00:39\n",
      "   ---- ----------------------------------- 15.2/149.9 MB 3.6 MB/s eta 0:00:38\n",
      "   ---- ----------------------------------- 16.5/149.9 MB 3.7 MB/s eta 0:00:37\n",
      "   ---- ----------------------------------- 17.6/149.9 MB 3.7 MB/s eta 0:00:36\n",
      "   ---- ----------------------------------- 18.6/149.9 MB 3.8 MB/s eta 0:00:35\n",
      "   ----- ---------------------------------- 19.7/149.9 MB 3.8 MB/s eta 0:00:34\n",
      "   ----- ---------------------------------- 20.7/149.9 MB 3.9 MB/s eta 0:00:34\n",
      "   ----- ---------------------------------- 21.8/149.9 MB 3.9 MB/s eta 0:00:33\n",
      "   ------ --------------------------------- 23.1/149.9 MB 4.0 MB/s eta 0:00:32\n",
      "   ------ --------------------------------- 23.9/149.9 MB 4.0 MB/s eta 0:00:32\n",
      "   ------ --------------------------------- 24.6/149.9 MB 4.0 MB/s eta 0:00:32\n",
      "   ------ --------------------------------- 25.7/149.9 MB 4.0 MB/s eta 0:00:32\n",
      "   ------- -------------------------------- 26.7/149.9 MB 4.0 MB/s eta 0:00:31\n",
      "   ------- -------------------------------- 27.8/149.9 MB 4.1 MB/s eta 0:00:31\n",
      "   ------- -------------------------------- 28.8/149.9 MB 4.1 MB/s eta 0:00:30\n",
      "   -------- ------------------------------- 30.1/149.9 MB 4.1 MB/s eta 0:00:29\n",
      "   -------- ------------------------------- 31.2/149.9 MB 4.2 MB/s eta 0:00:29\n",
      "   -------- ------------------------------- 32.2/149.9 MB 4.2 MB/s eta 0:00:29\n",
      "   -------- ------------------------------- 33.0/149.9 MB 4.2 MB/s eta 0:00:28\n",
      "   --------- ------------------------------ 34.1/149.9 MB 4.2 MB/s eta 0:00:28\n",
      "   --------- ------------------------------ 34.9/149.9 MB 4.2 MB/s eta 0:00:28\n",
      "   --------- ------------------------------ 35.7/149.9 MB 4.2 MB/s eta 0:00:28\n",
      "   --------- ------------------------------ 37.0/149.9 MB 4.2 MB/s eta 0:00:27\n",
      "   ---------- ----------------------------- 37.7/149.9 MB 4.2 MB/s eta 0:00:27\n",
      "   ---------- ----------------------------- 38.8/149.9 MB 4.2 MB/s eta 0:00:27\n",
      "   ---------- ----------------------------- 39.8/149.9 MB 4.2 MB/s eta 0:00:26\n",
      "   ---------- ----------------------------- 40.9/149.9 MB 4.3 MB/s eta 0:00:26\n",
      "   ----------- ---------------------------- 42.2/149.9 MB 4.3 MB/s eta 0:00:26\n",
      "   ----------- ---------------------------- 43.0/149.9 MB 4.3 MB/s eta 0:00:25\n",
      "   ----------- ---------------------------- 44.0/149.9 MB 4.3 MB/s eta 0:00:25\n",
      "   ------------ --------------------------- 45.1/149.9 MB 4.3 MB/s eta 0:00:25\n",
      "   ------------ --------------------------- 46.1/149.9 MB 4.3 MB/s eta 0:00:25\n",
      "   ------------ --------------------------- 46.9/149.9 MB 4.3 MB/s eta 0:00:24\n",
      "   ------------ --------------------------- 48.0/149.9 MB 4.3 MB/s eta 0:00:24\n",
      "   ------------- -------------------------- 48.8/149.9 MB 4.3 MB/s eta 0:00:24\n",
      "   ------------- -------------------------- 49.8/149.9 MB 4.3 MB/s eta 0:00:24\n",
      "   ------------- -------------------------- 50.9/149.9 MB 4.3 MB/s eta 0:00:23\n",
      "   ------------- -------------------------- 52.2/149.9 MB 4.4 MB/s eta 0:00:23\n",
      "   -------------- ------------------------- 53.2/149.9 MB 4.4 MB/s eta 0:00:23\n",
      "   -------------- ------------------------- 54.3/149.9 MB 4.4 MB/s eta 0:00:22\n",
      "   -------------- ------------------------- 55.1/149.9 MB 4.4 MB/s eta 0:00:22\n",
      "   --------------- ------------------------ 56.4/149.9 MB 4.4 MB/s eta 0:00:22\n",
      "   --------------- ------------------------ 57.4/149.9 MB 4.4 MB/s eta 0:00:21\n",
      "   --------------- ------------------------ 57.9/149.9 MB 4.4 MB/s eta 0:00:22\n",
      "   --------------- ------------------------ 58.7/149.9 MB 4.4 MB/s eta 0:00:21\n",
      "   --------------- ------------------------ 59.8/149.9 MB 4.4 MB/s eta 0:00:21\n",
      "   ---------------- ----------------------- 60.8/149.9 MB 4.4 MB/s eta 0:00:21\n",
      "   ---------------- ----------------------- 61.9/149.9 MB 4.4 MB/s eta 0:00:21\n",
      "   ---------------- ----------------------- 62.9/149.9 MB 4.4 MB/s eta 0:00:20\n",
      "   ----------------- ---------------------- 64.0/149.9 MB 4.4 MB/s eta 0:00:20\n",
      "   ----------------- ---------------------- 65.0/149.9 MB 4.4 MB/s eta 0:00:20\n",
      "   ----------------- ---------------------- 66.1/149.9 MB 4.4 MB/s eta 0:00:19\n",
      "   ----------------- ---------------------- 67.1/149.9 MB 4.4 MB/s eta 0:00:19\n",
      "   ------------------ --------------------- 68.2/149.9 MB 4.4 MB/s eta 0:00:19\n",
      "   ------------------ --------------------- 68.9/149.9 MB 4.4 MB/s eta 0:00:19\n",
      "   ------------------ --------------------- 70.0/149.9 MB 4.4 MB/s eta 0:00:19\n",
      "   ------------------ --------------------- 71.0/149.9 MB 4.4 MB/s eta 0:00:18\n",
      "   ------------------- -------------------- 72.1/149.9 MB 4.4 MB/s eta 0:00:18\n",
      "   ------------------- -------------------- 73.1/149.9 MB 4.4 MB/s eta 0:00:18\n",
      "   ------------------- -------------------- 74.4/149.9 MB 4.5 MB/s eta 0:00:17\n",
      "   -------------------- ------------------- 75.5/149.9 MB 4.5 MB/s eta 0:00:17\n",
      "   -------------------- ------------------- 76.5/149.9 MB 4.5 MB/s eta 0:00:17\n",
      "   -------------------- ------------------- 77.9/149.9 MB 4.5 MB/s eta 0:00:17\n",
      "   --------------------- ------------------ 78.9/149.9 MB 4.5 MB/s eta 0:00:16\n",
      "   --------------------- ------------------ 80.0/149.9 MB 4.5 MB/s eta 0:00:16\n",
      "   --------------------- ------------------ 80.7/149.9 MB 4.5 MB/s eta 0:00:16\n",
      "   --------------------- ------------------ 82.1/149.9 MB 4.5 MB/s eta 0:00:16\n",
      "   ---------------------- ----------------- 83.4/149.9 MB 4.5 MB/s eta 0:00:15\n",
      "   ---------------------- ----------------- 84.1/149.9 MB 4.5 MB/s eta 0:00:15\n",
      "   ---------------------- ----------------- 84.9/149.9 MB 4.5 MB/s eta 0:00:15\n",
      "   ----------------------- ---------------- 86.2/149.9 MB 4.5 MB/s eta 0:00:15\n",
      "   ----------------------- ---------------- 87.3/149.9 MB 4.5 MB/s eta 0:00:14\n",
      "   ----------------------- ---------------- 88.3/149.9 MB 4.5 MB/s eta 0:00:14\n",
      "   ----------------------- ---------------- 89.4/149.9 MB 4.5 MB/s eta 0:00:14\n",
      "   ------------------------ --------------- 90.7/149.9 MB 4.6 MB/s eta 0:00:14\n",
      "   ------------------------ --------------- 91.8/149.9 MB 4.6 MB/s eta 0:00:13\n",
      "   ------------------------ --------------- 92.5/149.9 MB 4.5 MB/s eta 0:00:13\n",
      "   ------------------------ --------------- 93.6/149.9 MB 4.6 MB/s eta 0:00:13\n",
      "   ------------------------- -------------- 94.9/149.9 MB 4.6 MB/s eta 0:00:13\n",
      "   ------------------------- -------------- 95.9/149.9 MB 4.6 MB/s eta 0:00:12\n",
      "   ------------------------- -------------- 97.0/149.9 MB 4.6 MB/s eta 0:00:12\n",
      "   -------------------------- ------------- 98.3/149.9 MB 4.6 MB/s eta 0:00:12\n",
      "   -------------------------- ------------- 99.6/149.9 MB 4.6 MB/s eta 0:00:11\n",
      "   -------------------------- ------------- 100.9/149.9 MB 4.6 MB/s eta 0:00:11\n",
      "   --------------------------- ------------ 102.0/149.9 MB 4.6 MB/s eta 0:00:11\n",
      "   --------------------------- ------------ 103.0/149.9 MB 4.6 MB/s eta 0:00:11\n",
      "   --------------------------- ------------ 104.1/149.9 MB 4.6 MB/s eta 0:00:10\n",
      "   --------------------------- ------------ 104.6/149.9 MB 4.6 MB/s eta 0:00:10\n",
      "   ---------------------------- ----------- 105.9/149.9 MB 4.6 MB/s eta 0:00:10\n",
      "   ---------------------------- ----------- 107.2/149.9 MB 4.6 MB/s eta 0:00:10\n",
      "   ---------------------------- ----------- 108.3/149.9 MB 4.6 MB/s eta 0:00:09\n",
      "   ----------------------------- ---------- 109.3/149.9 MB 4.6 MB/s eta 0:00:09\n",
      "   ----------------------------- ---------- 110.4/149.9 MB 4.6 MB/s eta 0:00:09\n",
      "   ----------------------------- ---------- 111.1/149.9 MB 4.6 MB/s eta 0:00:09\n",
      "   ----------------------------- ---------- 111.9/149.9 MB 4.6 MB/s eta 0:00:09\n",
      "   ------------------------------ --------- 113.2/149.9 MB 4.6 MB/s eta 0:00:08\n",
      "   ------------------------------ --------- 114.3/149.9 MB 4.6 MB/s eta 0:00:08\n",
      "   ------------------------------ --------- 115.1/149.9 MB 4.6 MB/s eta 0:00:08\n",
      "   ------------------------------ --------- 115.9/149.9 MB 4.6 MB/s eta 0:00:08\n",
      "   ------------------------------- -------- 116.9/149.9 MB 4.6 MB/s eta 0:00:08\n",
      "   ------------------------------- -------- 118.0/149.9 MB 4.6 MB/s eta 0:00:07\n",
      "   ------------------------------- -------- 119.0/149.9 MB 4.6 MB/s eta 0:00:07\n",
      "   -------------------------------- ------- 120.3/149.9 MB 4.6 MB/s eta 0:00:07\n",
      "   -------------------------------- ------- 121.4/149.9 MB 4.6 MB/s eta 0:00:07\n",
      "   -------------------------------- ------- 122.4/149.9 MB 4.6 MB/s eta 0:00:06\n",
      "   -------------------------------- ------- 123.5/149.9 MB 4.6 MB/s eta 0:00:06\n",
      "   --------------------------------- ------ 124.8/149.9 MB 4.6 MB/s eta 0:00:06\n",
      "   --------------------------------- ------ 125.8/149.9 MB 4.7 MB/s eta 0:00:06\n",
      "   --------------------------------- ------ 126.9/149.9 MB 4.7 MB/s eta 0:00:05\n",
      "   --------------------------------- ------ 127.4/149.9 MB 4.6 MB/s eta 0:00:05\n",
      "   ---------------------------------- ----- 128.5/149.9 MB 4.6 MB/s eta 0:00:05\n",
      "   ---------------------------------- ----- 129.8/149.9 MB 4.6 MB/s eta 0:00:05\n",
      "   ---------------------------------- ----- 130.8/149.9 MB 4.7 MB/s eta 0:00:05\n",
      "   ----------------------------------- ---- 132.1/149.9 MB 4.7 MB/s eta 0:00:04\n",
      "   ----------------------------------- ---- 133.2/149.9 MB 4.7 MB/s eta 0:00:04\n",
      "   ----------------------------------- ---- 134.2/149.9 MB 4.7 MB/s eta 0:00:04\n",
      "   ------------------------------------ --- 135.5/149.9 MB 4.7 MB/s eta 0:00:04\n",
      "   ------------------------------------ --- 136.6/149.9 MB 4.7 MB/s eta 0:00:03\n",
      "   ------------------------------------ --- 137.4/149.9 MB 4.7 MB/s eta 0:00:03\n",
      "   ------------------------------------ --- 138.4/149.9 MB 4.7 MB/s eta 0:00:03\n",
      "   ------------------------------------- -- 139.2/149.9 MB 4.7 MB/s eta 0:00:03\n",
      "   ------------------------------------- -- 140.0/149.9 MB 4.7 MB/s eta 0:00:03\n",
      "   ------------------------------------- -- 141.3/149.9 MB 4.7 MB/s eta 0:00:02\n",
      "   ------------------------------------- -- 142.3/149.9 MB 4.7 MB/s eta 0:00:02\n",
      "   -------------------------------------- - 143.4/149.9 MB 4.7 MB/s eta 0:00:02\n",
      "   -------------------------------------- - 144.4/149.9 MB 4.8 MB/s eta 0:00:02\n",
      "   -------------------------------------- - 145.5/149.9 MB 4.8 MB/s eta 0:00:01\n",
      "   ---------------------------------------  146.5/149.9 MB 4.8 MB/s eta 0:00:01\n",
      "   ---------------------------------------  147.6/149.9 MB 4.8 MB/s eta 0:00:01\n",
      "   ---------------------------------------  148.6/149.9 MB 4.8 MB/s eta 0:00:01\n",
      "   ---------------------------------------  149.7/149.9 MB 4.8 MB/s eta 0:00:01\n",
      "   ---------------------------------------  149.7/149.9 MB 4.8 MB/s eta 0:00:01\n",
      "   ---------------------------------------  149.7/149.9 MB 4.8 MB/s eta 0:00:01\n",
      "   ---------------------------------------  149.7/149.9 MB 4.8 MB/s eta 0:00:01\n",
      "   ---------------------------------------  149.7/149.9 MB 4.8 MB/s eta 0:00:01\n",
      "   ---------------------------------------  149.7/149.9 MB 4.8 MB/s eta 0:00:01\n",
      "   ---------------------------------------  149.7/149.9 MB 4.8 MB/s eta 0:00:01\n",
      "   ---------------------------------------  149.7/149.9 MB 4.8 MB/s eta 0:00:01\n",
      "   ---------------------------------------  149.7/149.9 MB 4.8 MB/s eta 0:00:01\n",
      "   ---------------------------------------  149.7/149.9 MB 4.8 MB/s eta 0:00:01\n",
      "   ---------------------------------------  149.7/149.9 MB 4.8 MB/s eta 0:00:01\n",
      "   ---------------------------------------  149.7/149.9 MB 4.8 MB/s eta 0:00:01\n",
      "   ---------------------------------------  149.7/149.9 MB 4.8 MB/s eta 0:00:01\n",
      "   ---------------------------------------  149.7/149.9 MB 4.8 MB/s eta 0:00:01\n",
      "   ---------------------------------------  149.7/149.9 MB 4.8 MB/s eta 0:00:01\n",
      "   ---------------------------------------  149.7/149.9 MB 4.8 MB/s eta 0:00:01\n",
      "   ---------------------------------------  149.7/149.9 MB 4.8 MB/s eta 0:00:01\n",
      "   ---------------------------------------  149.7/149.9 MB 4.8 MB/s eta 0:00:01\n",
      "   ---------------------------------------  149.7/149.9 MB 4.8 MB/s eta 0:00:01\n",
      "   ---------------------------------------  149.7/149.9 MB 4.8 MB/s eta 0:00:01\n",
      "   ---------------------------------------- 149.9/149.9 MB 4.2 MB/s eta 0:00:00\n",
      "Installing collected packages: xgboost\n",
      "Successfully installed xgboost-3.0.3\n"
     ]
    }
   ],
   "source": [
    "!pip install xgboost\n"
   ]
  },
  {
   "cell_type": "code",
   "execution_count": 57,
   "id": "7dad9ce8",
   "metadata": {},
   "outputs": [
    {
     "data": {
      "text/plain": [
       "0.9544554455445544"
      ]
     },
     "execution_count": 57,
     "metadata": {},
     "output_type": "execute_result"
    }
   ],
   "source": [
    "#MLP\n",
    "\n",
    "from sklearn.neural_network import MLPClassifier\n",
    "\n",
    "MLP = MLPClassifier(hidden_layer_sizes=(7,), max_iter=1000)\n",
    "MLP.fit(X_train_resampled, y_train_resampled)\n",
    "\n",
    "MLP.score(X_test_tfidf, y_test)"
   ]
  },
  {
   "cell_type": "code",
   "execution_count": null,
   "id": "0adb1d4f",
   "metadata": {},
   "outputs": [
    {
     "data": {
      "text/plain": [
       "0.9465346534653465"
      ]
     },
     "execution_count": 56,
     "metadata": {},
     "output_type": "execute_result"
    }
   ],
   "source": []
  },
  {
   "cell_type": "code",
   "execution_count": null,
   "id": "d42bd0fb",
   "metadata": {},
   "outputs": [
    {
     "name": "stdout",
     "output_type": "stream",
     "text": [
      "                  precision    recall  f1-score   support\n",
      "\n",
      "  Balance Sheets       0.93      1.00      0.96        54\n",
      "       Cash Flow       0.86      0.86      0.86         7\n",
      "Income Statement       0.97      0.95      0.96        61\n",
      "           Notes       0.93      0.92      0.93       138\n",
      "          Others       0.95      0.95      0.95       245\n",
      "\n",
      "        accuracy                           0.95       505\n",
      "       macro avg       0.93      0.94      0.93       505\n",
      "    weighted avg       0.95      0.95      0.95       505\n",
      "\n"
     ]
    }
   ],
   "source": [
    "y_pred = LR.predict(X_test_tfidf)\n",
    "\n",
    "print(classification_report(y_test, y_pred))"
   ]
  },
  {
   "cell_type": "code",
   "execution_count": 42,
   "id": "f69e2081",
   "metadata": {},
   "outputs": [
    {
     "name": "stdout",
     "output_type": "stream",
     "text": [
      "                  precision    recall  f1-score   support\n",
      "\n",
      "  Balance Sheets       0.95      0.96      0.95        54\n",
      "       Cash Flow       1.00      0.86      0.92         7\n",
      "Income Statement       1.00      0.89      0.94        61\n",
      "           Notes       0.92      0.94      0.93       138\n",
      "          Others       0.94      0.96      0.95       245\n",
      "\n",
      "        accuracy                           0.94       505\n",
      "       macro avg       0.96      0.92      0.94       505\n",
      "    weighted avg       0.94      0.94      0.94       505\n",
      "\n"
     ]
    }
   ],
   "source": [
    "RF_pred = RF.predict(X_test_tfidf)\n",
    "\n",
    "print(classification_report(y_test, RF_pred))"
   ]
  },
  {
   "cell_type": "code",
   "execution_count": 44,
   "id": "eb3200b8",
   "metadata": {},
   "outputs": [
    {
     "name": "stdout",
     "output_type": "stream",
     "text": [
      "                  precision    recall  f1-score   support\n",
      "\n",
      "  Balance Sheets       0.93      0.93      0.93        54\n",
      "       Cash Flow       1.00      0.71      0.83         7\n",
      "Income Statement       0.93      0.92      0.93        61\n",
      "           Notes       0.85      0.88      0.87       138\n",
      "          Others       0.91      0.90      0.91       245\n",
      "\n",
      "        accuracy                           0.90       505\n",
      "       macro avg       0.92      0.87      0.89       505\n",
      "    weighted avg       0.90      0.90      0.90       505\n",
      "\n"
     ]
    }
   ],
   "source": [
    "DT_pred = DT.predict(X_test_tfidf)\n",
    "\n",
    "print(classification_report(y_test, DT_pred))"
   ]
  },
  {
   "cell_type": "code",
   "execution_count": null,
   "id": "716dd174",
   "metadata": {},
   "outputs": [
    {
     "name": "stdout",
     "output_type": "stream",
     "text": [
      "                  precision    recall  f1-score   support\n",
      "\n",
      "  Balance Sheets       0.96      1.00      0.98        54\n",
      "       Cash Flow       1.00      0.86      0.92         7\n",
      "Income Statement       0.92      0.97      0.94        61\n",
      "           Notes       0.96      0.93      0.95       138\n",
      "          Others       0.96      0.96      0.96       245\n",
      "\n",
      "        accuracy                           0.95       505\n",
      "       macro avg       0.96      0.94      0.95       505\n",
      "    weighted avg       0.95      0.95      0.95       505\n",
      "\n",
      "                  precision    recall  f1-score   support\n",
      "\n",
      "  Balance Sheets       0.93      1.00      0.96        54\n",
      "       Cash Flow       0.86      0.86      0.86         7\n",
      "Income Statement       0.97      0.95      0.96        61\n",
      "           Notes       0.93      0.92      0.93       138\n",
      "          Others       0.95      0.95      0.95       245\n",
      "\n",
      "        accuracy                           0.95       505\n",
      "       macro avg       0.93      0.94      0.93       505\n",
      "    weighted avg       0.95      0.95      0.95       505\n",
      "\n"
     ]
    }
   ],
   "source": [
    "MLP_pred = MLP.predict(X_test_tfidf)\n",
    "print(classification_report(y_test, MLP_pred))\n",
    "\n",
    "y_pred = LR.predict(X_test_tfidf)\n",
    "print(classification_report(y_test, y_pred))"
   ]
  },
  {
   "cell_type": "code",
   "execution_count": 62,
   "id": "ecd402c5",
   "metadata": {},
   "outputs": [
    {
     "data": {
      "image/png": "[encoded data removed]",
      "text/plain": [
       "<Figure size 300x200 with 2 Axes>"
      ]
     },
     "metadata": {},
     "output_type": "display_data"
    }
   ],
   "source": [
    "# Confusion matrix plot\n",
    "cm = confusion_matrix(y_test, y_pred, labels=LR.classes_)\n",
    "plt.figure(figsize=(3,2))\n",
    "sns.heatmap(cm, annot=True, fmt='d', xticklabels=LR.classes_, yticklabels=LR.classes_, cmap='Blues')\n",
    "plt.ylabel('Actual')\n",
    "plt.xlabel('Predicted')\n",
    "plt.title('Confusion Matrix')\n",
    "plt.show()\n",
    "\n",
    "\n"
   ]
  },
  {
   "cell_type": "code",
   "execution_count": 68,
   "id": "24e8703a",
   "metadata": {},
   "outputs": [
    {
     "data": {
      "image/png": "[encoded data removed]",
      "text/plain": [
       "<Figure size 300x200 with 2 Axes>"
      ]
     },
     "metadata": {},
     "output_type": "display_data"
    }
   ],
   "source": [
    "mml = confusion_matrix(y_test, y_pred, labels=MLP.classes_)\n",
    "plt.figure(figsize=(3,2))\n",
    "sns.heatmap(dm, annot=True, fmt='d', xticklabels=MLP.classes_, yticklabels=MLP.classes_, cmap='Blues')\n",
    "plt.ylabel('Actual')\n",
    "plt.xlabel('Predicted')\n",
    "plt.title('Confusion Matrix')\n",
    "plt.show()"
   ]
  },
  {
   "cell_type": "code",
   "execution_count": 108,
   "id": "6a20705e",
   "metadata": {},
   "outputs": [
    {
     "name": "stdout",
     "output_type": "stream",
     "text": [
      "Model and vectorizer saved.\n"
     ]
    }
   ],
   "source": [
    "# Saving Model\n",
    "joblib.dump(MLP, \"MODELS/ROG_CLASSIFIER.pkl\")\n",
    "joblib.dump(vectorizer, \"MODELS/ROG_tfidf_vectorizer.pkl\")\n",
    "\n",
    "print(\"Model and vectorizer saved.\")"
   ]
  },
  {
   "cell_type": "code",
   "execution_count": null,
   "id": "bc1d366d",
   "metadata": {},
   "outputs": [],
   "source": []
  },
  {
   "cell_type": "code",
   "execution_count": null,
   "id": "4dae4ce8",
   "metadata": {},
   "outputs": [],
   "source": []
  },
  {
   "cell_type": "code",
   "execution_count": 129,
   "id": "fe77937c",
   "metadata": {},
   "outputs": [
    {
     "name": "stdout",
     "output_type": "stream",
     "text": [
      "158 Think Growth. Think Transformation. Think Reliance.\n",
      "Reliance Industries Limited\n",
      "Consolidated Cash Flow Statement for the year 2009-10\n",
      "(Rs. in crore)\n",
      "2009-10 2008-09\n",
      "A: CASH FLOW FROM OPERATING ACTIVITIES:\n",
      "Net Profit before tax as per Profit and Loss Account 28,679.86 17,869.14\n",
      "Adjusted for:\n",
      "Miscellaneous Expenditure written off 2.09 1.02\n",
      "Share in Income of Associates (10.77) 127.14\n",
      "Net Prior Year Adjustments 1.35 2.64\n",
      "Diminution in value of Investments 8.30 3.44\n",
      "Investment written off (net) 245.33 -\n",
      "Impairment of Assets 17.70 -\n",
      "Loss on Sale / Discarding of Assets (net) 33.34 31.40\n",
      "Depreciation 14,000.62 7,712.58\n",
      "Transferred from Revaluation Reserve (2,991.80) (1,987.14)\n",
      "Transferred from Capital Reserve (63.02) (74.46)\n",
      "Effect of Exchange Rate Change (1,799.43) 474.49\n",
      "Effect of De-subsidiarisation 16.53 (43.09)\n",
      "Profit on Sale of Investments (net) (296.18) (425.08)\n",
      "Exceptional Item (8,605.57) -\n",
      "Dividend Income (8.30) (44.41)\n",
      "Interest / Other Income (1,716.18) (1,456.07)\n",
      "Interest and Finance Charges 2,059.58 1,816.27\n",
      "893.59 6,138.73\n",
      "Operating Profit before Working Capital Changes 29,573.45 24,007.87\n",
      "Adjusted for:\n",
      "Trade and Other Receivables (5,790.65) 2,876.25\n",
      "Inventories (14,396.67) (1,503.19)\n",
      "Trade Payables 14,249.20 (7,145.57)\n",
      "(5,938.12) (5,772.51)\n",
      "Cash Generated from Operations 23,635.33 18,235.36\n",
      "Net Prior Year Adjustments (1.35) (2.64)\n",
      "Taxes Paid (3,140.40) (1,926.05)\n",
      "Net Prior Year Adjustments on Account of Subsidiaries 0.69 (19.22)\n",
      "Net Cash from Operating Activities 20,494.27 16,287.45\n",
      "B: CASH FLOW FROM INVESTING ACTIVITIES:\n",
      "Purchase of Fixed Assets (23,278.10) (27,856.77)\n",
      "Sale of Fixed Assets 261.34 124.75\n",
      "Purchase of Investments (2,01,137.94) (1,09,280.00)\n",
      "Sale of Investments 2,03,782.64 1,12,646.26\n",
      "Movement in Loans and Advances (19.06) (101.52)\n",
      "Interest Income 2,153.17 1,319.39\n",
      "Dividend Income 7.12 44.53\n",
      "Net Cash (Used in) Investing Activities (18,230.83) (23,103.36)\n"
     ]
    }
   ],
   "source": [
    "import pdfplumber\n",
    "\n",
    "with pdfplumber.open(\"RE10.pdf\") as pdf:\n",
    "    first_page = pdf.pages[163]\n",
    "    doc7 = first_page.extract_text()\n",
    "    print(doc7)"
   ]
  },
  {
   "cell_type": "code",
   "execution_count": 130,
   "id": "94c59c56",
   "metadata": {},
   "outputs": [
    {
     "name": "stdout",
     "output_type": "stream",
     "text": [
      "Predicted Document Category: Cash Flow\n"
     ]
    }
   ],
   "source": [
    "import re\n",
    "\n",
    "def preprocess_text(text):\n",
    "    text = text.lower()\n",
    "    text = re.sub(r'\\s+', ' ', text)\n",
    "    text = re.sub(r'[^a-z0-9\\s]', '', text)\n",
    "    return text\n",
    "\n",
    "\n",
    "sample_text_processed = preprocess_text(doc7)\n",
    "\n",
    "sample_vec = vectorizer.transform([sample_text_processed])\n",
    "\n",
    "sample_pred = MLP.predict(sample_vec)\n",
    "\n",
    "print(f\"Predicted Document Category: {sample_pred[0]}\")\n"
   ]
  },
  {
   "cell_type": "code",
   "execution_count": 133,
   "id": "9c5f29a7",
   "metadata": {},
   "outputs": [
    {
     "data": {
      "text/plain": [
       "'158 think growth think transformation think reliance reliance industries limited consolidated cash flow statement for the year 200910 rs in crore 200910 200809 a cash flow from operating activities net profit before tax as per profit and loss account 2867986 1786914 adjusted for miscellaneous expenditure written off 209 102 share in income of associates 1077 12714 net prior year adjustments 135 264 diminution in value of investments 830 344 investment written off net 24533  impairment of assets 1770  loss on sale  discarding of assets net 3334 3140 depreciation 1400062 771258 transferred from revaluation reserve 299180 198714 transferred from capital reserve 6302 7446 effect of exchange rate change 179943 47449 effect of desubsidiarisation 1653 4309 profit on sale of investments net 29618 42508 exceptional item 860557  dividend income 830 4441 interest  other income 171618 145607 interest and finance charges 205958 181627 89359 613873 operating profit before working capital changes 2957345 2400787 adjusted for trade and other receivables 579065 287625 inventories 1439667 150319 trade payables 1424920 714557 593812 577251 cash generated from operations 2363533 1823536 net prior year adjustments 135 264 taxes paid 314040 192605 net prior year adjustments on account of subsidiaries 069 1922 net cash from operating activities 2049427 1628745 b cash flow from investing activities purchase of fixed assets 2327810 2785677 sale of fixed assets 26134 12475 purchase of investments 20113794 10928000 sale of investments 20378264 11264626 movement in loans and advances 1906 10152 interest income 215317 131939 dividend income 712 4453 net cash used in investing activities 1823083 2310336'"
      ]
     },
     "execution_count": 133,
     "metadata": {},
     "output_type": "execute_result"
    }
   ],
   "source": [
    "sample_text_processed"
   ]
  },
  {
   "cell_type": "code",
   "execution_count": null,
   "id": "27520e17",
   "metadata": {},
   "outputs": [],
   "source": []
  },
  {
   "cell_type": "code",
   "execution_count": 243,
   "id": "f28d3b00",
   "metadata": {},
   "outputs": [
    {
     "name": "stdout",
     "output_type": "stream",
     "text": [
      "Notice Board’s Report Report on Corporate Governance Standalone Financial Statements Consolidated Financial Statements\n",
      "7.5.1 Details of Investments (` in lacs)\n",
      "Particulars Face value As at 31.03.2020 As at 31.03.2019\n",
      "Holding Fair Value Holding Fair Value\n",
      "19. MISCELLANEOUS\n",
      "Finolex Industries Ltd. ............................................................................................ 10 302,368 1,181.35 302,368 1,516.07\n",
      "Mahindra Lifespace Developers Ltd. ................................................................ 10 500,000 954.00 300,000 1,078.05\n",
      "Westlife Development Ltd. .................................................................................. 2 505,000 1,617.01 100,000 428.70\n",
      "3,752.36 3,022.82\n",
      "Total of Quoted Equity shares ......................................................... 683,890.11 801,562.09\n",
      "II) UNQUOTED EQUITY SHARES\n",
      "INDIA\n",
      "Indbazar.com Ltd. .................................................................................................... 10 50,000 * 50,000 *\n",
      "Indian Seamless Enterprise Ltd. ......................................................................... 10 67,210 65.87 67,210 49.94\n",
      "Institutional Investor Advisory Services Ltd. ................................................. 10 1,000,000 33.30 1,000,000 60.00\n",
      "jamipol Ltd. ............................................................................................................... 10 250,000 750.00 250,000 975.00\n",
      "National Stock Exchange of India Ltd. ............................................................. 1 1,463,000 13,682.77 1,463,000 13,220.12\n",
      "Piem Hotels Ltd. ....................................................................................................... 10 35,000 476.00 35,000 453.25\n",
      "Ritspin Synthetics Ltd. ........................................................................................... 10 100,000 * 100,000 *\n",
      "Roots Corporation Ltd. .......................................................................................... 10 2,614,379 339.88 2,614,379 1,045.75\n",
      "Tata Autocomp Systems Ltd. ............................................................................... 10 2,720,054 598.41 2,720,054 2,040.04\n",
      "Tata Capital Ltd. ........................................................................................................ 10 77,196,591 33,966.50 77,196,591 39,061.49\n",
      "Tata Industries Ltd. .................................................................................................. 100 676,790 1,133.89 676,790 1,133.89\n",
      "Tata Services Ltd. ..................................................................................................... 1000 270 2.70 270 2.70\n",
      "Tata Sons Private Ltd. (the holding company) .............................................. 1000 326 193.27 326 193.27\n",
      "Tata Teleservices Ltd. .............................................................................................. 10 5,684,692 * 5,684,692 *\n",
      "Voltbek Home Appliances Pvt.Ltd. .................................................................... 10 6,840,100 684.01 4,020,100 402.01\n",
      "51,926.60 58,637.46\n",
      "SRI LANKA\n",
      "Guardian Capital Partners PLC ............................................................................ 10 2,720 * 2,720 *\n",
      "* *\n",
      "Total of Unquoted Equity shares ..................................................... 51,926.60 58,637.46\n",
      "* Denotes balance less than ` 500\n",
      "III) BONDS / DEBENTURES\n",
      "9.45% Housing Development Finance Corporation Ltd 2021 ................ 1000000 200 2,178.35 200 2,168.61\n",
      "9.55% Housing Development Finance Corporation Ltd 2021 ................ 1000000 700 7,682.70 700 7,660.15\n",
      "9.90% Housing Development Finance Corporation Ltd 2021 ................ 1000000 100 1,080.27 100 1,076.24\n",
      "8.55% ICICI Bank Ltd 2022 .................................................................................... 1000000 800 8,188.91 800 8,122.80\n",
      "8.15% State Bank of India 2022 .......................................................................... 1000000 500 5,203.95 500 5,114.03\n",
      "8.75% State Bank of India Perpetual (Call - 2024) ........................................ 1000000 400 4,187.52 - -\n",
      "Carried forward..... 28,521.70 24,141.83\n",
      "99\n"
     ]
    }
   ],
   "source": [
    "import pdfplumber\n",
    "\n",
    "with pdfplumber.open(\"TATA.pdf\") as pdf:\n",
    "    first_page = pdf.pages[100]\n",
    "    doc = first_page.extract_text()\n",
    "    print(doc)"
   ]
  },
  {
   "cell_type": "code",
   "execution_count": 244,
   "id": "7a1cc669",
   "metadata": {},
   "outputs": [],
   "source": [
    "import joblib\n",
    "import re\n",
    "\n",
    "Model = joblib.load(\"MODELS/ROG_CLASSIFIER.pkl\")\n",
    "vectorizer = joblib.load(\"MODELS/ROG_tfidf_vectorizer.pkl\")\n",
    "\n",
    "def preprocess_text(text):\n",
    "    text = text.lower()\n",
    "    text = re.sub(r'\\s+', ' ', text)\n",
    "    text = re.sub(r'[^a-z0-9\\s]', '', text)\n",
    "    return text\n",
    "\n",
    "\n",
    "\n",
    "sample_text_processed = preprocess_text(doc)\n",
    "sample_vec = vectorizer.transform([sample_text_processed])\n",
    "\n",
    "\n"
   ]
  },
  {
   "cell_type": "code",
   "execution_count": 245,
   "id": "5721919f",
   "metadata": {},
   "outputs": [
    {
     "name": "stdout",
     "output_type": "stream",
     "text": [
      "Predicted Document Category: Notes\n"
     ]
    }
   ],
   "source": [
    "predicted_category = Model.predict(sample_vec)\n",
    "\n",
    "print(f\"Predicted Document Category: {predicted_category[0]}\")"
   ]
  },
  {
   "cell_type": "code",
   "execution_count": null,
   "id": "4c489e8b",
   "metadata": {},
   "outputs": [],
   "source": []
  },
  {
   "cell_type": "code",
   "execution_count": null,
   "id": "e7564619",
   "metadata": {},
   "outputs": [],
   "source": []
  },
  {
   "cell_type": "code",
   "execution_count": null,
   "id": "5cc39a6a",
   "metadata": {},
   "outputs": [],
   "source": []
  }
 ],
 "metadata": {
  "kernelspec": {
   "display_name": ".venv",
   "language": "python",
   "name": "python3"
  },
  "language_info": {
   "codemirror_mode": {
    "name": "ipython",
    "version": 3
   },
   "file_extension": ".py",
   "mimetype": "text/x-python",
   "name": "python",
   "nbconvert_exporter": "python",
   "pygments_lexer": "ipython3",
   "version": "3.10.8"
  }
 },
 "nbformat": 4,
 "nbformat_minor": 5
}
